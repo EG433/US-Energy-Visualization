{
 "cells": [
  {
   "cell_type": "code",
   "execution_count": null,
   "metadata": {},
   "outputs": [],
   "source": [
    "import pandas as pd\n",
    "import numpy as np\n",
    "\n",
    "energy_data = pd.read_csv('data.csv')\n",
    "energy_data"
   ]
  },
  {
   "cell_type": "code",
   "execution_count": null,
   "metadata": {},
   "outputs": [],
   "source": [
    "energy_data = energy_data[energy_data['ENERGY SOURCE'] != 'Pumped Storage'] # Exclude pumped storage, as its stored energy"
   ]
  },
  {
   "cell_type": "code",
   "execution_count": null,
   "metadata": {},
   "outputs": [],
   "source": [
    "grouped_data = energy_data.groupby(['YEAR', 'MONTH', 'STATE', 'ENERGY SOURCE'])['GENERATION (Megawatthours)'].sum().reset_index()\n",
    "\n",
    "filtered_data = grouped_data[~grouped_data['ENERGY SOURCE'].str.contains(\"Total\")]\n",
    "\n",
    "total_generation = filtered_data.groupby(['YEAR', 'MONTH', 'STATE'])['GENERATION (Megawatthours)'].sum().reset_index()\n",
    "total_generation.rename(columns={'GENERATION (Megawatthours)': 'TOTAL GENERATION'}, inplace=True)\n",
    "\n",
    "merged_data = pd.merge(filtered_data, total_generation, on=['YEAR', 'MONTH', 'STATE'])\n",
    "\n",
    "merged_data['PERCENTAGE'] = (merged_data['GENERATION (Megawatthours)'] / merged_data['TOTAL GENERATION']) * 100\n",
    "\n",
    "merged_data.head()"
   ]
  },
  {
   "cell_type": "code",
   "execution_count": null,
   "metadata": {},
   "outputs": [],
   "source": [
    "import json\n",
    "\n",
    "merged_data['PERCENTAGE'].fillna(0, inplace=True) # DC sometimes generated no power for some months, leading to NaN values\n",
    "\n",
    "# Mapping state name to expected ID by D3 Choropleth\n",
    "state_to_id = {\n",
    "    'AK': '02', 'AL': '01', 'AR': '05', 'AZ': '04', 'CA': '06',\n",
    "    'CO': '08', 'CT': '09', 'DC': '11', 'DE': '10', 'FL': '12',\n",
    "    'GA': '13', 'HI': '15', 'IA': '19', 'ID': '16', 'IL': '17',\n",
    "    'IN': '18', 'KS': '20', 'KY': '21', 'LA': '22', 'MA': '25',\n",
    "    'MD': '24', 'ME': '23', 'MI': '26', 'MN': '27', 'MO': '29',\n",
    "    'MS': '28', 'MT': '30', 'NC': '37', 'ND': '38', 'NE': '31',\n",
    "    'NH': '33', 'NJ': '34', 'NM': '35', 'NV': '32', 'NY': '36',\n",
    "    'OH': '39', 'OK': '40', 'OR': '41', 'PA': '42', 'RI': '44',\n",
    "    'SC': '45', 'SD': '46', 'TN': '47', 'TX': '48', 'UT': '49',\n",
    "    'VA': '51', 'VT': '50', 'WA': '53', 'WI': '55', 'WV': '54',\n",
    "    'WY': '56', 'US-TOTAL': \"00\"\n",
    "}\n",
    "\n",
    "json_output = []\n",
    "for (year, month), group in merged_data.groupby(['YEAR', 'MONTH']):\n",
    "    month_data = []\n",
    "    for state, state_group in group.groupby('STATE'):\n",
    "        energy_mix = {row['ENERGY SOURCE']: round(float(row['PERCENTAGE']), 2) for index, row in state_group.iterrows()}\n",
    "        month_data.append({\n",
    "            \"id\": state_to_id[state],\n",
    "            \"EnergyMix\": energy_mix\n",
    "        })\n",
    "    json_output.append({\n",
    "        \"Year\": int(year),\n",
    "        \"Month\": int(month),\n",
    "        \"Data\": month_data\n",
    "    })\n",
    "\n",
    "json_formatted_str = json.dumps(json_output, indent=2)\n",
    "json_formatted_str[:1000]"
   ]
  },
  {
   "cell_type": "code",
   "execution_count": null,
   "metadata": {},
   "outputs": [],
   "source": [
    "with open('../src/assets/data.json', 'w') as f:\n",
    "    f.write(json_formatted_str)"
   ]
  }
 ],
 "metadata": {
  "kernelspec": {
   "display_name": "Python 3",
   "language": "python",
   "name": "python3"
  },
  "language_info": {
   "codemirror_mode": {
    "name": "ipython",
    "version": 3
   },
   "file_extension": ".py",
   "mimetype": "text/x-python",
   "name": "python",
   "nbconvert_exporter": "python",
   "pygments_lexer": "ipython3",
   "version": "3.10.14"
  }
 },
 "nbformat": 4,
 "nbformat_minor": 2
}
